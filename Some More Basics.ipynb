{
 "cells": [
  {
   "cell_type": "code",
   "execution_count": 1,
   "id": "7388ace2",
   "metadata": {},
   "outputs": [],
   "source": [
    "class Employee:\n",
    "    count = 0 \n",
    "    def __init__(self,name,salary):\n",
    "        self.name = name\n",
    "        self.salary = salary\n",
    "        Employee.count+=1\n",
    "    def display_count(self):\n",
    "        return Employee.count"
   ]
  },
  {
   "cell_type": "code",
   "execution_count": 2,
   "id": "49d1a8a1",
   "metadata": {},
   "outputs": [],
   "source": [
    "e1 = Employee('rahman',30000)"
   ]
  },
  {
   "cell_type": "code",
   "execution_count": 3,
   "id": "85fde4a8",
   "metadata": {},
   "outputs": [],
   "source": [
    "e2 = Employee('adib',12000)"
   ]
  },
  {
   "cell_type": "code",
   "execution_count": 4,
   "id": "cd2580ef",
   "metadata": {},
   "outputs": [],
   "source": [
    "e2.display_count()"
   ]
  },
  {
   "cell_type": "code",
   "execution_count": 5,
   "id": "05bc9f1c",
   "metadata": {},
   "outputs": [],
   "source": [
    "e1.att = 10\n"
   ]
  },
  {
   "cell_type": "code",
   "execution_count": 6,
   "id": "98829c81",
   "metadata": {},
   "outputs": [],
   "source": [
    "a = Employee"
   ]
  },
  {
   "cell_type": "code",
   "execution_count": 7,
   "id": "34b2a084",
   "metadata": {},
   "outputs": [],
   "source": [
    "a.__dict__"
   ]
  },
  {
   "cell_type": "code",
   "execution_count": 8,
   "id": "6745273e",
   "metadata": {},
   "outputs": [],
   "source": [
    "\n",
    "def gen():\n",
    "    n = 1\n",
    "    print(n)\n",
    "    yield n\n",
    "    n+=1\n",
    "    print(n)\n",
    "    yield n\n",
    "a = gen()\n",
    "\n",
    "next(a)\n",
    "next(a)"
   ]
  },
  {
   "cell_type": "code",
   "execution_count": 9,
   "id": "7c860f8c",
   "metadata": {},
   "outputs": [],
   "source": [
    "import threading\n",
    "import time\n",
    "\n",
    "def fun1(n,name):\n",
    "    time.sleep(n)\n",
    "    print(name)\n",
    "def fun2(n,name):\n",
    "    time.sleep(n)\n",
    "    print(name)\n",
    "\n",
    "t1= threading.Thread(target = fun1,args=(2,'rahman'))\n",
    "t2= threading.Thread(target = fun2 , args = (4,'RAHMAN'))\n",
    "\n",
    "t1.start()\n",
    "t2.start()\n",
    "t1.join()\n",
    "t2.join()\n",
    "print('helo')\n",
    "\n",
    "\n"
   ]
  },
  {
   "cell_type": "code",
   "execution_count": 10,
   "id": "41853943",
   "metadata": {},
   "outputs": [],
   "source": [
    "lock = threading.Lock()\n",
    "lock.acquire()\n",
    "print('hello')"
   ]
  },
  {
   "cell_type": "code",
   "execution_count": 11,
   "id": "f201d9f6",
   "metadata": {},
   "outputs": [],
   "source": [
    "from datetime import datetime as dt\n",
    "dt.now()"
   ]
  },
  {
   "cell_type": "code",
   "execution_count": 12,
   "id": "7103c48a",
   "metadata": {},
   "outputs": [],
   "source": [
    "import turtle\n",
    "\n",
    "window = turtle.Screen()\n",
    "window.bgcolor = 'blue'\n",
    "my_pen = turtle.Turtle()\n",
    "my_pen.forward(50)\n",
    "my_pen.right(90)\n",
    "my_pen.forward(50)\n",
    "my_pen.right(90)\n",
    "my_pen.forward(50)\n",
    "my_pen.right(90)\n",
    "my_pen.forward(50)"
   ]
  },
  {
   "cell_type": "code",
   "execution_count": 13,
   "id": "22e944d7",
   "metadata": {},
   "outputs": [],
   "source": [
    "def helix():\n",
    "    turtle.Screen()\n",
    "    turtle.speed(2)\n",
    "    for i in range(5):# ------- increment this to helx\n",
    "        turtle.circle(5*i)\n",
    "        turtle.circle(-5*i)\n",
    "        turtle.left(i)\n",
    "    turtle.exitonclick()\n",
    "\n",
    "helix()"
   ]
  },
  {
   "cell_type": "code",
   "execution_count": 14,
   "id": "d1714f33",
   "metadata": {},
   "outputs": [],
   "source": [
    "import calendar\n",
    "print(calendar.month(2018,11))"
   ]
  },
  {
   "cell_type": "code",
   "execution_count": 15,
   "id": "f4c333b3",
   "metadata": {},
   "outputs": [],
   "source": [
    "calendar.monthcalendar(2012,11)"
   ]
  },
  {
   "cell_type": "code",
   "execution_count": 16,
   "id": "e23134a0",
   "metadata": {},
   "outputs": [],
   "source": [
    "import time\n",
    "print(time.ctime(time.time()))\n",
    "print(time.asctime(time.localtime(time.time())))\n",
    "import datetime\n",
    "\n",
    "x = datetime.datetime.now()\n",
    "x.strftime('%c')"
   ]
  },
  {
   "cell_type": "code",
   "execution_count": 17,
   "id": "556aad6d",
   "metadata": {},
   "outputs": [],
   "source": [
    "print(time.localtime())\n",
    "print(time.gmtime())\n"
   ]
  },
  {
   "cell_type": "code",
   "execution_count": 18,
   "id": "531256f0",
   "metadata": {},
   "outputs": [],
   "source": [
    "import turtle\n",
    "\n",
    "window = turtle.Screen()\n",
    "turtleObj = turtle.Turtle()\n",
    "\n",
    "def my_sqrFunc(size):\n",
    "    for i in range(4):\n",
    "        turtleObj.forward(size)\n",
    "        turtleObj.left(90)\n",
    "        size -= 5\n",
    "\n",
    "my_sqrFunc(146)\n",
    "my_sqrFunc(126)\n",
    "my_sqrFunc(106)\n",
    "my_sqrFunc(86)\n",
    "my_sqrFunc(66)\n",
    "my_sqrFunc(46)\n",
    "my_sqrFunc(26)\n",
    "my_sqrFunc(16)\n",
    "\n",
    "turtle.done()"
   ]
  },
  {
   "cell_type": "code",
   "execution_count": null,
   "id": "a939d915",
   "metadata": {},
   "outputs": [],
   "source": [
    "import turtle\n",
    "t = turtle.Turtle()\n",
    "t.goto(0,0)\n",
    "size = 700\n",
    "t.forward(size)\n",
    "t.right(90)\n",
    "t.forward(size)\n",
    "t.right(90)\n",
    "t.forward(size)\n",
    "t.right(90)\n",
    "t.forward(size)\n",
    "turtle.done()"
   ]
  },
  {
   "cell_type": "code",
   "execution_count": null,
   "id": "345eeaab",
   "metadata": {},
   "outputs": [],
   "source": [
    "turtle.Screen()\n",
    "turtle.speed(200)\n",
    "def spiral(size):\n",
    "    for i in range(30):\n",
    "        turtle.circle(5*i)\n",
    "        turtle.circle(-5*i)\n",
    "        turtle.left(i)\n",
    "    turtle.exitonclick()\n",
    "spiral(30)"
   ]
  },
  {
   "cell_type": "markdown",
   "id": "3d0dcee6",
   "metadata": {},
   "source": [
    "have packed three labels into the parent widget &quot;root&quot;."
   ]
  },
  {
   "cell_type": "code",
   "execution_count": null,
   "id": "c19038fe",
   "metadata": {},
   "outputs": [],
   "source": [
    "import tkinter \n",
    "from tkinter import *\n",
    "root = tkinter.Tk()\n",
    "\n",
    "root.title('Pack System')\n",
    "\n",
    "w1 = Label(root,text='Red Sun',bg='red',fg='White').pack(ipadx=100,ipady=100,fill=tkinter.X)\n",
    "w2 = Label(root,text='Green Grass',bg ='green',fg='black').pack(side=LEFT,fill=tkinter.X)\n",
    "w3 = Label(root,text='BlueSky',bg='blue',fg='white').pack(padx=100,pady=100,fill=tkinter.X)\n",
    "\n",
    "root.mainloop()"
   ]
  },
  {
   "cell_type": "markdown",
   "id": "6a7bc9f9",
   "metadata": {},
   "source": [
    "Place System"
   ]
  },
  {
   "cell_type": "code",
   "execution_count": null,
   "id": "6647d3d6",
   "metadata": {},
   "outputs": [],
   "source": [
    "root = tkinter.Tk()\n",
    "root.title('Place System')\n",
    "Label(root,text='Enter your name',fg= 'Red').place(x=100,y=82)\n",
    "entry1 = Entry(root,width='31')\n",
    "entry1.place(x=220,y=82)\n",
    "root.mainloop()"
   ]
  },
  {
   "cell_type": "code",
   "execution_count": null,
   "id": "aa6991b9",
   "metadata": {},
   "outputs": [],
   "source": [
    "# creating a Drop list\n",
    "root = tkinter.Tk()\n",
    "country_list = ['India','Usa','Japan','China']\n",
    "option = StringVar()\n",
    "droplist = OptionMenu(root,option,*country_list)\n",
    "droplist.config(width=150)\n",
    "option.set('Choose Country')\n",
    "droplist.place(x=218,y=250)\n",
    "root.mainloop()\n"
   ]
  },
  {
   "cell_type": "code",
   "execution_count": null,
   "id": "790f6f38",
   "metadata": {},
   "outputs": [],
   "source": [
    "root = tkinter.Tk()\n",
    "\n",
    "def leftClick(event):\n",
    "    print(f'Clicked at {event.x} {event.y}')\n",
    "def rightClick(event):\n",
    "    print(f'Clicked at {event.x} {event.y}')\n",
    "frame = Frame(root,height = 300,width=300,bg='Green')\n",
    "label = Label(root,text = 'CLICK',width=50)\n",
    "frame.pack()\n",
    "frame.bind(\"<Button-1>\",leftClick)\n",
    "frame.bind(\"<Button-2>\",rightClick)\n",
    "label.pack()\n",
    "root.mainloop()"
   ]
  },
  {
   "cell_type": "code",
   "execution_count": null,
   "id": "9bdcd64f",
   "metadata": {},
   "outputs": [],
   "source": [
    "import tkinter\n",
    "from tkinter import *\n",
    "\n",
    "def callback(event):\n",
    "    print(f'x = {event.x} y = {event.y}')\n",
    "\n",
    "root = tkinter.Tk()\n",
    "f1 = Frame(root,width = 450,height = 400,bg='Green')\n",
    "root.geometry('700x800')\n",
    "\n",
    "f1.bind('<Button-1>',callback)\n",
    "f1.pack()\n",
    "\n",
    "root.mainloop()"
   ]
  },
  {
   "cell_type": "code",
   "execution_count": null,
   "id": "62143954",
   "metadata": {},
   "outputs": [],
   "source": [
    "def entered(event):\n",
    "    e2.focus_set()\n",
    "    \n",
    "root = tkinter.Tk()\n",
    "e1 = Entry(root)\n",
    "e1.focus_set()\n",
    "e1.place(x=10,y=10)\n",
    "e1.bind('<Return>',entered)\n",
    "e2 = Button(root,text = \"Button\")\n",
    "e2.place(x=220,y=10)\n",
    "root.mainloop()"
   ]
  },
  {
   "cell_type": "code",
   "execution_count": null,
   "id": "ba88e1ba",
   "metadata": {},
   "outputs": [],
   "source": [
    "def motion(event):\n",
    "    print(event.x_root,event.y_root)\n",
    "\n",
    "root = tkinter.Tk()\n",
    "f1 = Frame(root,bg='Green',width = 200,height = 200)\n",
    "f1.pack()\n",
    "f1.bind('<B1-Motion>',motion)\n",
    "\n",
    "\n",
    "root.mainloop()"
   ]
  },
  {
   "cell_type": "code",
   "execution_count": null,
   "id": "71316c9b",
   "metadata": {},
   "outputs": [],
   "source": [
    "!pip3 install pymysql\n"
   ]
  },
  {
   "cell_type": "code",
   "execution_count": null,
   "id": "b98a0f7c",
   "metadata": {},
   "outputs": [],
   "source": [
    "import pymysql as sql\n",
    "\n",
    "#db = sql.connect(user='root',password='pwd',host='localhost',database='testDb')\n",
    "cursor = db.cursor()\n",
    "cursor.execute('show tables;')"
   ]
  },
  {
   "cell_type": "code",
   "execution_count": null,
   "id": "c24aab9d",
   "metadata": {},
   "outputs": [],
   "source": [
    "import pandas as pd\n",
    "import os"
   ]
  },
  {
   "cell_type": "code",
   "execution_count": null,
   "id": "e4005cb2",
   "metadata": {},
   "outputs": [],
   "source": [
    "os.system('ls')"
   ]
  },
  {
   "cell_type": "code",
   "execution_count": null,
   "id": "c79c6a91",
   "metadata": {},
   "outputs": [],
   "source": [
    "import pandas as pd\n",
    "from pytz import timezone\n",
    "df =data5\n",
    "# Assuming your DataFrame has a column named 'epoch_time' with epoch values\n",
    "df['epoch_time'] = pd.to_datetime(df['epoch_time'], unit='s')  # Convert epoch to datetime\n",
    "\n",
    "# Set the timezone of the datetime column to UTC\n",
    "df['epoch_time'] = df['epoch_time'].dt.tz_localize('UTC')\n",
    "\n",
    "# Convert the datetime column to Asia/Kolkata timezone\n",
    "df['epoch_time'] = df['epoch_time'].dt.tz_convert(timezone('Asia/Kolkata'))\n"
   ]
  },
  {
   "cell_type": "code",
   "execution_count": null,
   "id": "58982502",
   "metadata": {},
   "outputs": [],
   "source": [
    "df"
   ]
  },
  {
   "cell_type": "code",
   "execution_count": null,
   "id": "4850f5d8",
   "metadata": {},
   "outputs": [],
   "source": [
    "import socket\n",
    "\n",
    "def is_program_running_on_remote_computer(ip_address, port):\n",
    "    try:\n",
    "        # Create a socket object\n",
    "        s = socket.socket(socket.AF_INET, socket.SOCK_STREAM)\n",
    "        s.settimeout(1)  # Timeout value for the connection attempt\n",
    "        \n",
    "        # Attempt to connect to the remote computer\n",
    "        s.connect((ip_address, port))\n",
    "        \n",
    "        # Connection successful\n",
    "        s.close()\n",
    "        return True\n",
    "    except (socket.timeout, ConnectionRefusedError):\n",
    "        # Connection failed or timed out\n",
    "        return False\n",
    "\n",
    "# Example usage\n",
    "ip_address = '103.94.137.195'  # Replace with the IP address of the remote computer\n",
    "port = 5000  # Replace with the port on which the program is running\n",
    "\n",
    "if is_program_running_on_remote_computer(ip_address, port):\n",
    "    print(\"The program is running on the remote computer.\")\n",
    "else:\n",
    "    print(\"The program is not running on the remote computer.\")\n"
   ]
  },
  {
   "cell_type": "code",
   "execution_count": null,
   "id": "6cefca31",
   "metadata": {},
   "outputs": [],
   "source": [
    "import socket\n",
    "\n",
    "def is_program_running_on_remote_computer(public_ip, port):\n",
    "    try:\n",
    "        # Create a socket object\n",
    "        s = socket.socket(socket.AF_INET, socket.SOCK_STREAM)\n",
    "        s.settimeout(1)  # Timeout value for the connection attempt\n",
    "        \n",
    "        # Attempt to connect to the remote computer\n",
    "        s.connect((public_ip, port))\n",
    "        \n",
    "        # Connection successful\n",
    "        s.close()\n",
    "        return True\n",
    "    except (socket.timeout, ConnectionRefusedError):\n",
    "        # Connection failed or timed out\n",
    "        return False\n",
    "\n",
    "# Example usage\n",
    "public_ip = '103.94.137.195'  # Replace with your home public IP address\n",
    "port = 5000  # Replace with the forwarded port on your home router\n",
    "\n",
    "if is_program_running_on_remote_computer(public_ip, port):\n",
    "    print(\"The program is running on the remote computer.\")\n",
    "else:\n",
    "    print(\"The program is not running on the remote computer.\")\n"
   ]
  },
  {
   "cell_type": "code",
   "execution_count": null,
   "id": "c9a5b4e9",
   "metadata": {},
   "outputs": [],
   "source": []
  }
 ],
 "metadata": {
  "kernelspec": {
   "display_name": "Python 3 (ipykernel)",
   "language": "python",
   "name": "python3"
  },
  "language_info": {
   "codemirror_mode": {
    "name": "ipython",
    "version": 3
   },
   "file_extension": ".py",
   "mimetype": "text/x-python",
   "name": "python",
   "nbconvert_exporter": "python",
   "pygments_lexer": "ipython3",
   "version": "3.9.2"
  }
 },
 "nbformat": 4,
 "nbformat_minor": 5
}
