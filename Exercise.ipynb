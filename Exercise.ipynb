{
 "cells": [
  {
   "cell_type": "markdown",
   "id": "d078d9c1-c09e-44e9-b0f9-83d91abfa85c",
   "metadata": {},
   "source": [
    "# P1 \n",
    "```Python program to extract elements from a list with frequency greater than an input number```\n"
   ]
  },
  {
   "cell_type": "code",
   "execution_count": 1,
   "id": "cdf3ea93-7c22-4840-b691-82c978a70efa",
   "metadata": {},
   "outputs": [],
   "source": [
    "from typing import List\n",
    "def extract(elements:List[int]):\n",
    "    threshold = int(input(\"Enter the threshold :\"))\n",
    "    elements = [x for x in elements if elements.count(x)>threshold]\n",
    "    return elements"
   ]
  },
  {
   "cell_type": "code",
   "execution_count": 2,
   "id": "02c73a61-7949-4ffb-8628-f544e9353c74",
   "metadata": {},
   "outputs": [
    {
     "name": "stdin",
     "output_type": "stream",
     "text": [
      "Enter the threshold : 2\n"
     ]
    },
    {
     "data": {
      "text/plain": [
       "[7, 7, 7, 7]"
      ]
     },
     "execution_count": 2,
     "metadata": {},
     "output_type": "execute_result"
    }
   ],
   "source": [
    "a = [1,7,1,2,4,7,7,3,7]\n",
    "extract(a)"
   ]
  },
  {
   "cell_type": "markdown",
   "id": "78e9fac5-e3ad-4fd4-99a5-d94c58d9fae8",
   "metadata": {},
   "source": [
    "# P2\n",
    "```Read a matrix dimension, and print the matrix filled with consecutive numbers starting from one(1). The first cell (0,0) must have the number 1. The last cell (n,m) must have the value n x m (The largest number). All others will be filled diagonally, left bottom to right top. For example```"
   ]
  },
  {
   "cell_type": "code",
   "execution_count": 3,
   "id": "1fc39a18-31af-4f3b-9cb8-f1998e56cac4",
   "metadata": {},
   "outputs": [
    {
     "name": "stdout",
     "output_type": "stream",
     "text": [
      "1 3 6 9 \n",
      "\n",
      "2 5 8 11 \n",
      "\n",
      "4 7 10 12 \n",
      "\n"
     ]
    }
   ],
   "source": [
    "\n",
    "def matrix(n,m):\n",
    "    matrix = [[0 for i in range(n)] for j in range(m)]\n",
    "    a = 1\n",
    "    \n",
    "    for k in range(m):\n",
    "        i = k\n",
    "        j = 0\n",
    "        while i >= 0 and j<n:\n",
    "            matrix[i][j] = a\n",
    "            i-=1\n",
    "            j+=1 \n",
    "            a += 1\n",
    "        \n",
    "    for k in range(1,n):\n",
    "        i = m-1\n",
    "        j = k\n",
    "        while j <= n-1 and i>=0:\n",
    "            matrix[i][j] = a\n",
    "            i -=1\n",
    "            j+=1\n",
    "            a+=1\n",
    "\n",
    "    for i in range(m):\n",
    "        for j in range(n):\n",
    "            print(matrix[i][j],end=' ')\n",
    "        print('\\n')\n",
    "\n",
    "\n",
    "\n",
    "m = matrix(4,3)\n"
   ]
  },
  {
   "cell_type": "markdown",
   "id": "28906251-f65c-4ba6-87bc-7f56b10f7e9c",
   "metadata": {},
   "source": [
    "# P4\n",
    "```remove elements from both the lists , if any one of them contains 0```"
   ]
  },
  {
   "cell_type": "code",
   "execution_count": 4,
   "id": "ffebeeef-d606-40a3-a3bd-dadbb09f809d",
   "metadata": {},
   "outputs": [],
   "source": [
    "def fun(list1,list2):\n",
    "    idx = 0\n",
    "    assert len(list1)==len(list2),'Length of lists are not equal'\n",
    "    while idx<len(list1):\n",
    "        condition = list1[idx] == 0 or list2[idx] == 0\n",
    "        if condition:\n",
    "            list1.pop(idx)\n",
    "            list2.pop(idx)\n",
    "        else:\n",
    "            idx+=1\n",
    "    return list1,list2"
   ]
  },
  {
   "cell_type": "code",
   "execution_count": 5,
   "id": "b97c8a33-8750-4bf8-b783-f07a4177d717",
   "metadata": {},
   "outputs": [],
   "source": [
    "a = [1,2,3,4,0,1] \n",
    "b = [1,2,2,3,1,1]"
   ]
  },
  {
   "cell_type": "code",
   "execution_count": 6,
   "id": "77d33501-257e-4b05-b880-b540405e5e43",
   "metadata": {},
   "outputs": [
    {
     "data": {
      "text/plain": [
       "([1, 2, 3, 4, 1], [1, 2, 2, 3, 1])"
      ]
     },
     "execution_count": 6,
     "metadata": {},
     "output_type": "execute_result"
    }
   ],
   "source": [
    "fun(a,b)"
   ]
  },
  {
   "cell_type": "markdown",
   "id": "82418672-4feb-44e8-8974-1ed7f6b37f33",
   "metadata": {},
   "source": [
    "# P5\n",
    "<img src = \"Screenshot 2023-08-23 3.03.19 PM.png\">"
   ]
  },
  {
   "cell_type": "code",
   "execution_count": 7,
   "id": "9fb64f2b-9e16-440a-bf84-5e88e6ca5730",
   "metadata": {},
   "outputs": [],
   "source": [
    "def pattern1(character='*',times = 3):\n",
    "    temp = times\n",
    "    while times :\n",
    "        for j in range(temp-times):\n",
    "            print(' ',end='')\n",
    "        for i in range(times):\n",
    "            print(character,end='')\n",
    "        print('\\n')\n",
    "        times -=1\n",
    "    times = temp\n",
    "    while times:\n",
    "        for i in range(times-1,0,-1):\n",
    "            print(' ',end='')\n",
    "        for j in range(temp-times+1):\n",
    "            print(character,end='')\n",
    "        print('\\n')\n",
    "        times -=1"
   ]
  },
  {
   "cell_type": "code",
   "execution_count": 8,
   "id": "59cb804d-9c45-4d19-95de-2e441441dd9d",
   "metadata": {},
   "outputs": [
    {
     "name": "stdout",
     "output_type": "stream",
     "text": [
      "**********\n",
      "\n",
      " *********\n",
      "\n",
      "  ********\n",
      "\n",
      "   *******\n",
      "\n",
      "    ******\n",
      "\n",
      "     *****\n",
      "\n",
      "      ****\n",
      "\n",
      "       ***\n",
      "\n",
      "        **\n",
      "\n",
      "         *\n",
      "\n",
      "         *\n",
      "\n",
      "        **\n",
      "\n",
      "       ***\n",
      "\n",
      "      ****\n",
      "\n",
      "     *****\n",
      "\n",
      "    ******\n",
      "\n",
      "   *******\n",
      "\n",
      "  ********\n",
      "\n",
      " *********\n",
      "\n",
      "**********\n",
      "\n",
      "+-+-+-+-+-+-+-+-+-+-\n",
      "\n",
      " +-+-+-+-+-+-+-+-+-\n",
      "\n",
      "  +-+-+-+-+-+-+-+-\n",
      "\n",
      "   +-+-+-+-+-+-+-\n",
      "\n",
      "    +-+-+-+-+-+-\n",
      "\n",
      "     +-+-+-+-+-\n",
      "\n",
      "      +-+-+-+-\n",
      "\n",
      "       +-+-+-\n",
      "\n",
      "        +-+-\n",
      "\n",
      "         +-\n",
      "\n",
      "         +-\n",
      "\n",
      "        +-+-\n",
      "\n",
      "       +-+-+-\n",
      "\n",
      "      +-+-+-+-\n",
      "\n",
      "     +-+-+-+-+-\n",
      "\n",
      "    +-+-+-+-+-+-\n",
      "\n",
      "   +-+-+-+-+-+-+-\n",
      "\n",
      "  +-+-+-+-+-+-+-+-\n",
      "\n",
      " +-+-+-+-+-+-+-+-+-\n",
      "\n",
      "+-+-+-+-+-+-+-+-+-+-\n",
      "\n"
     ]
    }
   ],
   "source": [
    "pattern1(character = '*',times = 10)\n",
    "pattern1(character = '+-',times = 10)\n"
   ]
  },
  {
   "cell_type": "markdown",
   "id": "131888d1-2828-403f-bb18-71c74a24c21e",
   "metadata": {},
   "source": [
    "# P6\n",
    "<img src=\"Screenshot 2023-08-23 3.06.29 PM.png\">"
   ]
  },
  {
   "cell_type": "code",
   "execution_count": 2,
   "id": "a1abaf99-d817-4faf-bb33-951dbd51c8b1",
   "metadata": {},
   "outputs": [
    {
     "name": "stdin",
     "output_type": "stream",
     "text": [
      "Enter col1 : 1\n",
      "Enter col2 : 2\n",
      "Enter col3 : 3\n"
     ]
    },
    {
     "name": "stdout",
     "output_type": "stream",
     "text": [
      "\t\t#\t\n",
      "\n",
      "\t#\t#\t\n",
      "\n",
      "#\t#\t#\t\n",
      "\n"
     ]
    }
   ],
   "source": [
    "def pattern2(character='#'):\n",
    "    a = int(input('Enter col1 :'))\n",
    "    b = int(input('Enter col2 :'))\n",
    "    c = int(input('Enter col3 :'))\n",
    "    m = max(a,b,c)\n",
    "    for i in range(m,0,-1):\n",
    "        if a >= i:\n",
    "            print(character,end='\\t')\n",
    "        else :\n",
    "            print('',end='\\t')\n",
    "        if b >= i:\n",
    "            print(character,end='\\t')\n",
    "        else:\n",
    "            print('',end='\\t')\n",
    "        if c >= i:\n",
    "            print(character,end='\\t')\n",
    "            \n",
    "\n",
    "        \n",
    "        print('\\n')\n",
    "pattern2()\n"
   ]
  },
  {
   "cell_type": "code",
   "execution_count": 10,
   "id": "9ef4b015-f82b-49a1-9398-7f940825feb5",
   "metadata": {},
   "outputs": [
    {
     "name": "stdin",
     "output_type": "stream",
     "text": [
      "Enter col1 : 8\n",
      "Enter col2 : 1\n",
      "Enter col3 : 7\n"
     ]
    },
    {
     "name": "stdout",
     "output_type": "stream",
     "text": [
      "#\t\t\n",
      "\n",
      "#\t\t#\t\n",
      "\n",
      "#\t\t#\t\n",
      "\n",
      "#\t\t#\t\n",
      "\n",
      "#\t\t#\t\n",
      "\n",
      "#\t\t#\t\n",
      "\n",
      "#\t\t#\t\n",
      "\n",
      "#\t#\t#\t\n",
      "\n"
     ]
    }
   ],
   "source": [
    "pattern2()"
   ]
  },
  {
   "cell_type": "markdown",
   "id": "f51971cc-6fa0-4b16-8afe-1229b37b6502",
   "metadata": {},
   "source": [
    "# P7\n",
    "<img src='Screenshot 2023-08-23 3.10.03 PM.png'>"
   ]
  },
  {
   "cell_type": "code",
   "execution_count": 11,
   "id": "2919bd94-1cae-4b9b-b8cd-5b97f906c273",
   "metadata": {},
   "outputs": [
    {
     "name": "stdout",
     "output_type": "stream",
     "text": [
      "1*****\n",
      "\n",
      "22****\n",
      "\n",
      "333***\n",
      "\n",
      "4444**\n",
      "\n",
      "55555*\n",
      "\n",
      "666666\n",
      "\n"
     ]
    }
   ],
   "source": [
    "def pattern3(character='*',times = 6):\n",
    "    for i in range(times):\n",
    "        for j in range(times):\n",
    "            if j <=i :\n",
    "                print(i+1,end='')\n",
    "            else:\n",
    "                print(character,end='')\n",
    "        print('\\n')\n",
    "        \n",
    "\n",
    "pattern3()\n"
   ]
  },
  {
   "cell_type": "code",
   "execution_count": 12,
   "id": "b2ced562-c8d6-4228-9d90-51be246d69ca",
   "metadata": {
    "scrolled": true
   },
   "outputs": [
    {
     "name": "stdout",
     "output_type": "stream",
     "text": [
      "1********\n",
      "\n",
      "22*******\n",
      "\n",
      "333******\n",
      "\n",
      "4444*****\n",
      "\n",
      "55555****\n",
      "\n",
      "666666***\n",
      "\n",
      "7777777**\n",
      "\n",
      "88888888*\n",
      "\n",
      "999999999\n",
      "\n"
     ]
    }
   ],
   "source": [
    "pattern3(times=9)"
   ]
  },
  {
   "cell_type": "markdown",
   "id": "2d1aef8d-a471-4ffc-9422-f78c4757d1c4",
   "metadata": {},
   "source": [
    "# P8"
   ]
  },
  {
   "cell_type": "markdown",
   "id": "84e5ac3d-3f17-4fd3-b13c-24448d40b416",
   "metadata": {},
   "source": [
    "<img src=\"Screenshot 2023-08-23 3.11.52 PM.png\">"
   ]
  },
  {
   "cell_type": "code",
   "execution_count": 1,
   "id": "c5c01936-6906-45e2-90a3-f062c96fa48c",
   "metadata": {},
   "outputs": [
    {
     "name": "stdout",
     "output_type": "stream",
     "text": [
      "        zy                xw                vu                ts        \n",
      "\n",
      "      r    q            p    o            n    m            l    k      \n",
      "\n",
      "    j        i        h        g        f        e        d        c    \n",
      "\n",
      "  b            a    z            y    x            w    v            u  \n",
      "\n",
      "t                sr                qp                on                m\n",
      "\n"
     ]
    }
   ],
   "source": [
    "class CharacterCycle:\n",
    "    def __init__(self):\n",
    "        self.c =  [ chr(x) for x in range(122,96,-1)]\n",
    "        self.idx = -1\n",
    "    def next(self):\n",
    "        if self.idx == 25:\n",
    "            self.idx = 0\n",
    "        else:\n",
    "            self.idx+=1\n",
    "        return self.c[self.idx]\n",
    "\n",
    "c= CharacterCycle()\n",
    "for i in range(5):\n",
    "    for x in range(4):\n",
    "        for j in range(4-i,0,-1):\n",
    "           print('  ',end='')\n",
    "        print(c.next(),end='')\n",
    "        for k in range(i,0,-1):\n",
    "           print('  ',end='')\n",
    "        for k in range(i,0,-1):\n",
    "            print('  ',end='')\n",
    "        print(c.next(),end='')\n",
    "        for j in range(4-i,0,-1):\n",
    "           print('  ',end='')\n",
    "    print('\\n')\n",
    "    "
   ]
  }
 ],
 "metadata": {
  "kernelspec": {
   "display_name": "Python 3 (ipykernel)",
   "language": "python",
   "name": "python3"
  },
  "language_info": {
   "codemirror_mode": {
    "name": "ipython",
    "version": 3
   },
   "file_extension": ".py",
   "mimetype": "text/x-python",
   "name": "python",
   "nbconvert_exporter": "python",
   "pygments_lexer": "ipython3",
   "version": "3.9.2"
  }
 },
 "nbformat": 4,
 "nbformat_minor": 5
}
