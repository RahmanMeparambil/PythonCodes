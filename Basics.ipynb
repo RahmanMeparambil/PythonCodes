{
 "cells": [
  {
   "cell_type": "markdown",
   "id": "93203365",
   "metadata": {},
   "source": [
    "## Creating Nan"
   ]
  },
  {
   "cell_type": "code",
   "execution_count": 1,
   "id": "cf7f35ca",
   "metadata": {},
   "outputs": [],
   "source": [
    "# creating nan value\n",
    "nan = float('nan')"
   ]
  },
  {
   "cell_type": "code",
   "execution_count": 2,
   "id": "fefdd70f",
   "metadata": {},
   "outputs": [],
   "source": [
    "import math\n",
    "math.nan is nan"
   ]
  },
  {
   "cell_type": "code",
   "execution_count": 3,
   "id": "cb63d1b3",
   "metadata": {},
   "outputs": [],
   "source": [
    "math.isnan(nan)"
   ]
  },
  {
   "cell_type": "code",
   "execution_count": 4,
   "id": "55675474",
   "metadata": {},
   "outputs": [],
   "source": [
    "math.isnan(math.nan)"
   ]
  },
  {
   "cell_type": "markdown",
   "id": "35bb6478",
   "metadata": {},
   "source": [
    "## Hcf"
   ]
  },
  {
   "cell_type": "code",
   "execution_count": 5,
   "id": "dc4815cd",
   "metadata": {},
   "outputs": [],
   "source": [
    "# find highest common factor\n",
    "def hcf(x,y):\n",
    "    smallest = min(x,y)\n",
    "    for i in range(1,smallest) :\n",
    "        if x%i == 0 and y%i == 0:\n",
    "            cf = i\n",
    "    return cf"
   ]
  },
  {
   "cell_type": "code",
   "execution_count": 6,
   "id": "042845d4",
   "metadata": {},
   "outputs": [],
   "source": [
    "hcf(12,18)"
   ]
  },
  {
   "cell_type": "code",
   "execution_count": 7,
   "id": "ae2f05f6",
   "metadata": {},
   "outputs": [],
   "source": [
    "hcf(54,24)"
   ]
  },
  {
   "cell_type": "code",
   "execution_count": 8,
   "id": "79498d3e",
   "metadata": {},
   "outputs": [],
   "source": [
    "def hcf_em(x,y):\n",
    "    while(y):\n",
    "        x,y = y,x%y\n",
    "        print(f'x :{x} y :{y}')\n",
    "        "
   ]
  },
  {
   "cell_type": "code",
   "execution_count": 9,
   "id": "acc074a9",
   "metadata": {},
   "outputs": [],
   "source": [
    "hcf_em(54,24)"
   ]
  },
  {
   "cell_type": "code",
   "execution_count": 10,
   "id": "a31ffa39",
   "metadata": {},
   "outputs": [],
   "source": [
    "hcf_em(12,18)"
   ]
  },
  {
   "cell_type": "code",
   "execution_count": 11,
   "id": "11d1b2ae",
   "metadata": {},
   "outputs": [],
   "source": [
    "hcf_em(300,400)"
   ]
  },
  {
   "cell_type": "markdown",
   "id": "d587a7e8",
   "metadata": {},
   "source": [
    "## Swapping using xor"
   ]
  },
  {
   "cell_type": "code",
   "execution_count": 12,
   "id": "5c94e6ab",
   "metadata": {},
   "outputs": [],
   "source": [
    "# swapping using xor\n",
    "x = 200\n",
    "y = 300\n",
    "\n",
    "def swap(x,y):\n",
    "    print(f'x: {x} y:{y}')\n",
    "    x = x ^ y\n",
    "    print(f'x: {x} y:{y}')\n",
    "    y = x ^ y\n",
    "    print(f'x: {x} y:{y}')\n",
    "    x = x ^ y\n",
    "    print(f'x: {x} y:{y}')\n",
    "    return x,y\n",
    "\n",
    "swap(x,y)"
   ]
  },
  {
   "cell_type": "code",
   "execution_count": 13,
   "id": "b4afcdf7",
   "metadata": {},
   "outputs": [],
   "source": [
    "def same(x,y):\n",
    "    if x ^ y:\n",
    "        return False\n",
    "    else:\n",
    "        return True\n",
    "same(1,1)"
   ]
  },
  {
   "cell_type": "markdown",
   "id": "679d10a6",
   "metadata": {},
   "source": [
    "## leap year"
   ]
  },
  {
   "cell_type": "code",
   "execution_count": 14,
   "id": "0e74a1bc",
   "metadata": {},
   "outputs": [],
   "source": [
    "def is_leap_year(year):\n",
    "    if year % 4 == 0 and (year % 100 != 0 or year % 400 == 0):\n",
    "        return True\n",
    "    else:\n",
    "        return False"
   ]
  },
  {
   "cell_type": "markdown",
   "id": "e21f21d3",
   "metadata": {},
   "source": [
    "## Prime Number\n"
   ]
  },
  {
   "cell_type": "code",
   "execution_count": 15,
   "id": "ee46839f",
   "metadata": {},
   "outputs": [],
   "source": [
    "def prime(n):\n",
    "    if n<2:\n",
    "        return False\n",
    "    for i in range(2,n):\n",
    "        if n%i == 0:\n",
    "            return False\n",
    "    return True"
   ]
  },
  {
   "cell_type": "code",
   "execution_count": 16,
   "id": "fca746bb",
   "metadata": {},
   "outputs": [],
   "source": [
    "prime(13)"
   ]
  },
  {
   "cell_type": "code",
   "execution_count": 17,
   "id": "c5492ff2",
   "metadata": {},
   "outputs": [],
   "source": [
    "def prime_range(from_,to_):\n",
    "    res = []\n",
    "    for i in range(from_,to_+1):\n",
    "        if prime(i):\n",
    "            res.append(i)\n",
    "    return res"
   ]
  },
  {
   "cell_type": "code",
   "execution_count": 18,
   "id": "21bd4deb",
   "metadata": {},
   "outputs": [],
   "source": [
    "prime_range(0,50)"
   ]
  },
  {
   "cell_type": "markdown",
   "id": "5ab53296",
   "metadata": {},
   "source": [
    "## fibo"
   ]
  },
  {
   "cell_type": "code",
   "execution_count": 19,
   "id": "4f29d0bd",
   "metadata": {},
   "outputs": [],
   "source": [
    "def fibo(limit,a=0,b=1,res=[]):\n",
    "    c = a+b\n",
    "    if c >limit: \n",
    "        print(res)\n",
    "        return res\n",
    "    res.append(c)\n",
    "    fibo(a=b,b=c,res =res ,limit =limit)"
   ]
  },
  {
   "cell_type": "code",
   "execution_count": 20,
   "id": "defdbc3c",
   "metadata": {},
   "outputs": [],
   "source": [
    "fibo(limit = 10)"
   ]
  },
  {
   "cell_type": "markdown",
   "id": "3533e7ca",
   "metadata": {},
   "source": [
    "## Armstrong"
   ]
  },
  {
   "cell_type": "code",
   "execution_count": 21,
   "id": "bcbdc706",
   "metadata": {},
   "outputs": [],
   "source": [
    "def armstrong(n):\n",
    "    order = len(str(n))\n",
    "    s = 0\n",
    "    temp = n\n",
    "    while temp>0 :\n",
    "        digit = temp%10\n",
    "\n",
    "        s += digit**order\n",
    "\n",
    "        temp//=10\n",
    "\n",
    "    if n == s:\n",
    "        return True\n",
    "    else:\n",
    "        return False"
   ]
  },
  {
   "cell_type": "code",
   "execution_count": 22,
   "id": "88935247",
   "metadata": {},
   "outputs": [],
   "source": [
    "armstrong(54748)"
   ]
  },
  {
   "cell_type": "code",
   "execution_count": 23,
   "id": "de1b80d8",
   "metadata": {},
   "outputs": [],
   "source": [
    "def armstrongBtw(from_,to_):\n",
    "    res = []\n",
    "    for i in range(from_,to_):\n",
    "        if armstrong(i):\n",
    "            res.append(i)\n",
    "    return res\n",
    "            \n",
    "armstrongBtw(1,1000)"
   ]
  },
  {
   "cell_type": "markdown",
   "id": "db0d7ea2",
   "metadata": {},
   "source": [
    "## LCM\n"
   ]
  },
  {
   "cell_type": "code",
   "execution_count": 24,
   "id": "8921aba4",
   "metadata": {},
   "outputs": [],
   "source": [
    "def lcm(a,b):\n",
    "    greatest = max(a,b)\n",
    "    cf = None\n",
    "    while 1:\n",
    "        if greatest%a ==0 and greatest%b ==0 :\n",
    "            return greatest\n",
    "        greatest +=1\n",
    "    return cf"
   ]
  },
  {
   "cell_type": "code",
   "execution_count": 25,
   "id": "8ba052a2",
   "metadata": {},
   "outputs": [],
   "source": [
    "lcm(30,24)"
   ]
  },
  {
   "cell_type": "markdown",
   "id": "43cce042",
   "metadata": {},
   "source": [
    "## String"
   ]
  },
  {
   "cell_type": "code",
   "execution_count": 26,
   "id": "7dfbad5e",
   "metadata": {},
   "outputs": [],
   "source": [
    "a  = str()\n",
    "a"
   ]
  },
  {
   "cell_type": "code",
   "execution_count": 27,
   "id": "5de8be30",
   "metadata": {},
   "outputs": [],
   "source": [
    "b = bin(10)\n",
    "int(b,2)"
   ]
  },
  {
   "cell_type": "code",
   "execution_count": 28,
   "id": "a5c83e80",
   "metadata": {},
   "outputs": [],
   "source": [
    "bin(10)"
   ]
  },
  {
   "cell_type": "code",
   "execution_count": 29,
   "id": "1c68a78e",
   "metadata": {},
   "outputs": [],
   "source": [
    "hex(10)"
   ]
  },
  {
   "cell_type": "code",
   "execution_count": 30,
   "id": "7ebf1de7",
   "metadata": {},
   "outputs": [],
   "source": [
    "ord('a')"
   ]
  },
  {
   "cell_type": "code",
   "execution_count": 31,
   "id": "b1d1c9cd",
   "metadata": {},
   "outputs": [],
   "source": [
    "import ast\n",
    "def quadratics(a,b,c):\n",
    "    d = b**2 - (4*a*c)\n",
    "    return (-b+(d**.5))/(2*a),(-b-(d**.5))/(2*a)"
   ]
  },
  {
   "cell_type": "code",
   "execution_count": 32,
   "id": "b5d694bd",
   "metadata": {},
   "outputs": [],
   "source": [
    "quadratics(1,-3,2)"
   ]
  },
  {
   "cell_type": "code",
   "execution_count": 33,
   "id": "dd177f9c",
   "metadata": {},
   "outputs": [],
   "source": [
    "def random_binary():\n",
    "    import random \n",
    "    return bin(random.randint(1,1000))"
   ]
  },
  {
   "cell_type": "code",
   "execution_count": 34,
   "id": "3ff20967",
   "metadata": {},
   "outputs": [],
   "source": [
    "random_binary()\n",
    "a = '{a : 1,b:2 }'"
   ]
  },
  {
   "cell_type": "code",
   "execution_count": 35,
   "id": "199667b3",
   "metadata": {},
   "outputs": [],
   "source": [
    "eval(a)"
   ]
  },
  {
   "cell_type": "code",
   "execution_count": 36,
   "id": "401a67e0",
   "metadata": {},
   "outputs": [],
   "source": [
    "a = ('a','z','c')\n",
    "sorted(a,reverse = True)"
   ]
  },
  {
   "cell_type": "code",
   "execution_count": 37,
   "id": "210f5394",
   "metadata": {},
   "outputs": [],
   "source": [
    "import array\n",
    "array.array('b',[1,23])"
   ]
  },
  {
   "cell_type": "code",
   "execution_count": 38,
   "id": "5af5825a",
   "metadata": {},
   "outputs": [],
   "source": [
    "a= []\n",
    "b= []\n",
    "c= 3,2\n",
    "d= 4,1\n",
    "zip(a,b,c,d)"
   ]
  },
  {
   "cell_type": "code",
   "execution_count": 39,
   "id": "08f8d4f1",
   "metadata": {},
   "outputs": [],
   "source": [
    "for c,d in zip(a,b):\n",
    "    print(c,d)"
   ]
  },
  {
   "cell_type": "code",
   "execution_count": 40,
   "id": "69861fa2",
   "metadata": {},
   "outputs": [],
   "source": [
    "import array\n",
    "a = array.array('i',[1,2])"
   ]
  },
  {
   "cell_type": "code",
   "execution_count": 41,
   "id": "d2c20b25",
   "metadata": {},
   "outputs": [],
   "source": [
    "a[0] = 5"
   ]
  },
  {
   "cell_type": "code",
   "execution_count": 42,
   "id": "85c0ae72",
   "metadata": {},
   "outputs": [],
   "source": [
    "a = {'a':1}\n",
    "a.setdefault('b',2)"
   ]
  },
  {
   "cell_type": "code",
   "execution_count": 43,
   "id": "557e084e",
   "metadata": {},
   "outputs": [],
   "source": [
    "a"
   ]
  },
  {
   "cell_type": "code",
   "execution_count": 44,
   "id": "9551b661",
   "metadata": {},
   "outputs": [],
   "source": [
    "eval(a.__str__())"
   ]
  },
  {
   "cell_type": "code",
   "execution_count": 45,
   "id": "4541bd0e",
   "metadata": {},
   "outputs": [],
   "source": [
    "def desc():\n",
    "    \"\"\"hellow this is a function\"\"\"\n",
    "    return \n",
    "help(desc)"
   ]
  },
  {
   "cell_type": "markdown",
   "id": "07d5a78a",
   "metadata": {},
   "source": [
    "## Study about Errors"
   ]
  },
  {
   "cell_type": "code",
   "execution_count": null,
   "id": "3ec3f2f7",
   "metadata": {},
   "outputs": [],
   "source": [
    "try:\n",
    "    # Some code that may raise an exception\n",
    "    1 / 0\n",
    "except ZeroDivisionError:\n",
    "    # Handling ZeroDivisionError\n",
    "    print(\"Division by zero error occurred.\")\n",
    "    raise  # Re-raise the ZeroDivisionError\n"
   ]
  },
  {
   "cell_type": "code",
   "execution_count": null,
   "id": "a285a37a",
   "metadata": {},
   "outputs": [],
   "source": [
    "raise Exception('aya')"
   ]
  },
  {
   "cell_type": "markdown",
   "id": "32c0d44a",
   "metadata": {},
   "source": [
    "## Tk\n"
   ]
  },
  {
   "cell_type": "code",
   "execution_count": null,
   "id": "07b57dd8",
   "metadata": {},
   "outputs": [],
   "source": [
    "import tkinter \n",
    "from tkinter import *\n",
    "root = tkinter.Tk()\n",
    "w1 = Label(root,text  = 'Red Sun',fg='red',bg='orange').pack(ipadx=100,ipady=100,fill = tkinter.X)\n",
    "w2 = Label(root,text  = 'Green Grass',fg='Green',bg='black').pack(side = LEFT,fill = tkinter.X)\n",
    "w3 = Label(root,text  = 'Blue Sky',fg='Blue',bg='white').pack(side=RIGHT,padx=100,pady=100,fill = tkinter.X)\n",
    "root.mainloop()"
   ]
  },
  {
   "cell_type": "code",
   "execution_count": null,
   "id": "6e8b4fcb",
   "metadata": {},
   "outputs": [],
   "source": [
    "root = tkinter.Tk()\n",
    "\n",
    "def leftClick(event):\n",
    "    print(f'Clicked at {event.x} {event.y}')\n",
    "def rightClick(event):\n",
    "    print(f'RClicked at {event.x} {event.y}')\n",
    "\n",
    "frame = Frame(root,height = 300,width=300,bg='Green')\n",
    "label = Label(root,text = 'CLICK',width=50)\n",
    "frame.pack()\n",
    "frame.bind(\"<Button-1>\",leftClick)\n",
    "frame.bind(\"<Button-3>\",rightClick)\n",
    "label.pack()\n",
    "root.mainloop()"
   ]
  },
  {
   "cell_type": "code",
   "execution_count": null,
   "id": "353e2a4c",
   "metadata": {},
   "outputs": [],
   "source": [
    "class zeroError(Exception):\n",
    "    def __init__(self):\n",
    "        print('Zero cannot be divided')\n"
   ]
  },
  {
   "cell_type": "code",
   "execution_count": null,
   "id": "8d481dca",
   "metadata": {},
   "outputs": [],
   "source": [
    "raise zeroError"
   ]
  }
 ],
 "metadata": {
  "kernelspec": {
   "display_name": "Python 3 (ipykernel)",
   "language": "python",
   "name": "python3"
  },
  "language_info": {
   "codemirror_mode": {
    "name": "ipython",
    "version": 3
   },
   "file_extension": ".py",
   "mimetype": "text/x-python",
   "name": "python",
   "nbconvert_exporter": "python",
   "pygments_lexer": "ipython3",
   "version": "3.9.2"
  }
 },
 "nbformat": 4,
 "nbformat_minor": 5
}
