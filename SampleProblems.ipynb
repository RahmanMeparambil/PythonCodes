{
 "cells": [
  {
   "cell_type": "markdown",
   "id": "b1dc83b2-27f3-47cc-a37e-1c56bc584f6a",
   "metadata": {},
   "source": [
    "# P1"
   ]
  },
  {
   "cell_type": "markdown",
   "id": "3fd3c2ff-8a91-46d1-b182-1a7bef4b812e",
   "metadata": {},
   "source": [
    "```Write a program to create a list. Reverse the list without using any function. Store index andelements in two separate lists. Replace 2 nd to 5 th index items with new items```"
   ]
  },
  {
   "cell_type": "code",
   "execution_count": 1,
   "id": "7d07ba15-4dda-4cd5-bb2a-e5fd17264af3",
   "metadata": {},
   "outputs": [],
   "source": [
    "def create_list(n):\n",
    "    l = []\n",
    "    for _ in range(n):\n",
    "        l.append(int(input()))\n",
    "    return l\n",
    "                  "
   ]
  },
  {
   "cell_type": "code",
   "execution_count": 60,
   "id": "257ef7cb-dc5d-4b0a-90b7-72a92e65f060",
   "metadata": {},
   "outputs": [
    {
     "name": "stdin",
     "output_type": "stream",
     "text": [
      " 1\n",
      " 2\n",
      " 3\n",
      " 4\n",
      " 5\n",
      " 6\n"
     ]
    }
   ],
   "source": [
    "mylist = create_list(6)"
   ]
  },
  {
   "cell_type": "code",
   "execution_count": 32,
   "id": "65ca5f82-6343-4c85-9a40-4f2863ccad33",
   "metadata": {},
   "outputs": [],
   "source": [
    "def rev(lis_):\n",
    "    l = len(lis_)-1\n",
    "    n = []\n",
    "    for i in range(l,-1,-1):\n",
    "        n.append(lis_[i])\n",
    "    return n"
   ]
  },
  {
   "cell_type": "code",
   "execution_count": 33,
   "id": "99c3eb4e-a0dd-4337-9a26-0896724ba80e",
   "metadata": {},
   "outputs": [
    {
     "data": {
      "text/plain": [
       "[5, 4, 3, 2, 1]"
      ]
     },
     "execution_count": 33,
     "metadata": {},
     "output_type": "execute_result"
    }
   ],
   "source": [
    "rev(mylist)"
   ]
  },
  {
   "cell_type": "code",
   "execution_count": 48,
   "id": "2252c841-9db3-4f45-8d0e-d65d34787c72",
   "metadata": {},
   "outputs": [],
   "source": [
    "a = [[x,y] for x,y in enumerate(mylist)]"
   ]
  },
  {
   "cell_type": "code",
   "execution_count": 49,
   "id": "75b19039-9556-45dc-a635-b8c30e00a958",
   "metadata": {},
   "outputs": [
    {
     "data": {
      "text/plain": [
       "[[0, 1], [1, 2], [2, 3], [3, 4], [4, 5]]"
      ]
     },
     "execution_count": 49,
     "metadata": {},
     "output_type": "execute_result"
    }
   ],
   "source": [
    "a"
   ]
  },
  {
   "cell_type": "code",
   "execution_count": 35,
   "id": "44215470-2095-43c8-a98a-decdbbb6b417",
   "metadata": {},
   "outputs": [
    {
     "data": {
      "text/plain": [
       "[1, 2, 3, 4, 5]"
      ]
     },
     "execution_count": 35,
     "metadata": {},
     "output_type": "execute_result"
    }
   ],
   "source": [
    "[y for x,y in enumerate(mylist)]"
   ]
  },
  {
   "cell_type": "code",
   "execution_count": 53,
   "id": "8b46cd8d-1912-4b39-a251-4a94706eddfe",
   "metadata": {},
   "outputs": [],
   "source": [
    "from random import randint"
   ]
  },
  {
   "cell_type": "code",
   "execution_count": 65,
   "id": "23bfe206-4d16-4da1-b0fc-b990fd199e0a",
   "metadata": {},
   "outputs": [],
   "source": [
    "for i in range(2,6):\n",
    "    mylist[i] = randint(0,10)"
   ]
  },
  {
   "cell_type": "code",
   "execution_count": 66,
   "id": "5bbf6b42-9c1a-4f65-8455-98ff1bd98da6",
   "metadata": {},
   "outputs": [
    {
     "data": {
      "text/plain": [
       "[1, 2, 10, 4, 10, 1]"
      ]
     },
     "execution_count": 66,
     "metadata": {},
     "output_type": "execute_result"
    }
   ],
   "source": [
    "mylist"
   ]
  },
  {
   "cell_type": "markdown",
   "id": "48fae7c9-8122-4750-aeb8-9c0378be846e",
   "metadata": {},
   "source": [
    "# P2"
   ]
  },
  {
   "cell_type": "markdown",
   "id": "079562cf-0f8b-49d3-82fd-31f7db08095f",
   "metadata": {},
   "source": [
    "```Write a program to receive a sequence of comma-separated 10 letters as string from user andgenerate a list and a tuple which contains all letters. Take 2 nd index item from the list to a variable byremoving that item from the list. Add this removed element to 5 th index without deleting any otheritems. Replace 8 th to 10 th elements with new letters. Then, we have to find how many charactersneed to be removed from both the sequences so that they become anagrams of each other. Writethis program using function.```"
   ]
  },
  {
   "cell_type": "code",
   "execution_count": 81,
   "id": "6147325e-eaf4-42b1-9906-57d3277e30b4",
   "metadata": {},
   "outputs": [],
   "source": [
    "def list_tuple():\n",
    "    input1 = input()\n",
    "    r = input1.split(',')\n",
    "    return r,tuple(r)"
   ]
  },
  {
   "cell_type": "code",
   "execution_count": 83,
   "id": "95a3fc4f-d128-4317-aab1-29a889cf791e",
   "metadata": {},
   "outputs": [
    {
     "name": "stdin",
     "output_type": "stream",
     "text": [
      " 1,2,3\n"
     ]
    }
   ],
   "source": [
    "mylist = list_tuple()"
   ]
  },
  {
   "cell_type": "code",
   "execution_count": 85,
   "id": "daea0046-409b-4cab-a235-70b3309740a8",
   "metadata": {},
   "outputs": [],
   "source": [
    "a = mylist[0].pop(2)"
   ]
  },
  {
   "cell_type": "code",
   "execution_count": 86,
   "id": "e393f213-f270-4ea6-9a8e-8d9e33ac31cb",
   "metadata": {},
   "outputs": [
    {
     "data": {
      "text/plain": [
       "'3'"
      ]
     },
     "execution_count": 86,
     "metadata": {},
     "output_type": "execute_result"
    }
   ],
   "source": [
    "a"
   ]
  },
  {
   "cell_type": "code",
   "execution_count": 128,
   "id": "195ffe73-1dfd-4861-b6e6-2e811908979a",
   "metadata": {},
   "outputs": [],
   "source": [
    "def anagram(str1,str2):\n",
    "    idx1 ,idx2,idx3 = 0,0,0\n",
    "    count = 0\n",
    "    str1 = [x for x in str1]\n",
    "    str2 = [x for x in str2]\n",
    "    str1.sort()\n",
    "    str2.sort()\n",
    "    l_str1 = len(str1)\n",
    "    l_str2 = len(str2)\n",
    "    if max(l_str1,l_str2) == len(str1):\n",
    "        l = str1\n",
    "        s = str2 \n",
    "    else :\n",
    "        l = str2\n",
    "        s = str1\n",
    "    print(str1,str2)\n",
    "    while idx1 < len(s):\n",
    "        print(idx1,idx2,idx3)\n",
    "        if idx2 >= len(l) :\n",
    "            idx1 +=1\n",
    "            idx2 = idx3\n",
    "        elif l[idx2] == s[idx1]:\n",
    "            count += 1\n",
    "            idx1+=1  \n",
    "            idx3 = idx2+1\n",
    "            print(count)\n",
    "        elif s[idx1] < l[idx2]:\n",
    "            idx1+=1\n",
    "        \n",
    "        idx2+=1\n",
    "        \n",
    "    return len(l)-count,len(s)-count"
   ]
  },
  {
   "cell_type": "code",
   "execution_count": 140,
   "id": "e0478231-f1bf-49ea-9a10-21468f6cb6bf",
   "metadata": {},
   "outputs": [
    {
     "name": "stdout",
     "output_type": "stream",
     "text": [
      "['a', 'a', 'a', 'a', 'd', 'd', 'd', 'd', 'f', 'f', 'f', 'f', 'j', 'j', 'j', 'k', 'l', 'l'] ['a', 'a', 'a', 'a', 'a', 'd', 'd', 'd', 'd', 'd', 'f', 'f', 'f', 'f', 'f', 'j', 'j', 'j', 'j', 'j', 'k', 'k', 'l', 'l', 'l', 'l', 's', 's', 's']\n",
      "0 0 0\n",
      "1\n",
      "1 1 1\n",
      "2\n",
      "2 2 2\n",
      "3\n",
      "3 3 3\n",
      "4\n",
      "4 4 4\n",
      "4 5 4\n",
      "5\n",
      "5 6 6\n",
      "6\n",
      "6 7 7\n",
      "7\n",
      "7 8 8\n",
      "8\n",
      "8 9 9\n",
      "8 10 9\n",
      "9\n",
      "9 11 11\n",
      "10\n",
      "10 12 12\n",
      "11\n",
      "11 13 13\n",
      "12\n",
      "12 14 14\n",
      "12 15 14\n",
      "13\n",
      "13 16 16\n",
      "14\n",
      "14 17 17\n",
      "15\n",
      "15 18 18\n",
      "15 19 18\n",
      "15 20 18\n",
      "16\n",
      "16 21 21\n",
      "16 22 21\n",
      "17\n",
      "17 23 23\n",
      "18\n"
     ]
    },
    {
     "data": {
      "text/plain": [
       "(11, 0)"
      ]
     },
     "execution_count": 140,
     "metadata": {},
     "output_type": "execute_result"
    }
   ],
   "source": [
    "anagram('adfadfajdfkljaldfj','adsfljadfjadlkfjasdjflkjasdfl')"
   ]
  },
  {
   "cell_type": "code",
   "execution_count": 130,
   "id": "977cfc33-f191-4f8f-98a5-8e30bb7fd224",
   "metadata": {},
   "outputs": [],
   "source": [
    "def count_removed_chars_for_anagram(str1, str2):\n",
    "    char_count = {}  # Dictionary to store character frequencies\n",
    "\n",
    "    # Count characters in str1\n",
    "    for char in str1:\n",
    "        char_count[char] = char_count.get(char, 0) + 1\n",
    "\n",
    "    # Count characters in str2 and update char_count\n",
    "    for char in str2:\n",
    "        char_count[char] = char_count.get(char, 0) - 1\n",
    "\n",
    "    # Calculate the total number of characters to be removed\n",
    "    removed_chars_count = sum(abs(freq) for freq in char_count.values())\n",
    "\n",
    "    return removed_chars_count"
   ]
  },
  {
   "cell_type": "code",
   "execution_count": 139,
   "id": "2788d5c2-9a5d-4d8a-9b88-538db54eeb44",
   "metadata": {},
   "outputs": [
    {
     "data": {
      "text/plain": [
       "11"
      ]
     },
     "execution_count": 139,
     "metadata": {},
     "output_type": "execute_result"
    }
   ],
   "source": [
    "count_removed_chars_for_anagram('adfadfajdfkljaldfj','adsfljadfjadlkfjasdjflkjasdfl')"
   ]
  },
  {
   "cell_type": "markdown",
   "id": "2da28dab-1729-4ca5-9470-c40580e396ac",
   "metadata": {},
   "source": [
    "# P3"
   ]
  },
  {
   "cell_type": "markdown",
   "id": "61e0a339-e3e3-43dd-87c6-6071f076fa4c",
   "metadata": {},
   "source": [
    "```Create two classes ‘person’ and ‘details’. ‘person’ should be base class and ‘details’ should be child class. ‘person’ class should initialize name, age, email, phone. ‘details’ class should also initialize name, age, email, phone, gender. Create functions for all variables initialized inside person class in person class itself. These functions should be inside the person class and should return value of variables. Create another function inside details class which should return a sentence made by calling above mentioned functions.```"
   ]
  },
  {
   "cell_type": "code",
   "execution_count": 171,
   "id": "a4f364c8-1fef-4cd4-ae04-9de0d5f2a1e3",
   "metadata": {},
   "outputs": [],
   "source": [
    "class Person:\n",
    "    def __init__(self,name,age,email,phone,gender):\n",
    "        self.name = name\n",
    "        self.age = age\n",
    "        self.email = email\n",
    "        self.phone = phone\n",
    "        self.gender = gender\n",
    "    def get_name(self):\n",
    "        return self.name\n",
    "    def get_age(self):\n",
    "        return self.age\n",
    "    def get_email(self):\n",
    "        return self.email\n",
    "    def get_phone(self):\n",
    "        return self.phone\n",
    "    def get_gender(self):\n",
    "        return self.age\n",
    "\n",
    "        \n",
    "\n",
    "class Details(Person):\n",
    "    def __init__(self,name,age,email,phone,gender):\n",
    "        super().__init__(name,age,email,phone,gender)\n",
    "    def display(self):\n",
    "        return 'hi '+super().get_name()"
   ]
  },
  {
   "cell_type": "code",
   "execution_count": 173,
   "id": "38728ff5-402e-45ac-aba6-f8dc07758f11",
   "metadata": {},
   "outputs": [],
   "source": [
    "me = Details('Rahman',25,'rahman@gmail.com','9633754327','Male')"
   ]
  },
  {
   "cell_type": "code",
   "execution_count": 174,
   "id": "7455ade7-73d3-4e6c-8ed7-6b437cdc992c",
   "metadata": {},
   "outputs": [
    {
     "data": {
      "text/plain": [
       "'hi Rahman'"
      ]
     },
     "execution_count": 174,
     "metadata": {},
     "output_type": "execute_result"
    }
   ],
   "source": [
    "me.display()"
   ]
  },
  {
   "cell_type": "markdown",
   "id": "8ae1c949-6ff8-4bab-9664-34459029543b",
   "metadata": {},
   "source": [
    "# P4"
   ]
  },
  {
   "cell_type": "markdown",
   "id": "78738494-ece4-48d9-89c5-c4ee33efa06f",
   "metadata": {},
   "source": [
    "```D = square root of [ (2*a*b)/c ] ‘a’ and ‘c’ are fixed values. ‘a’ is 50 and ‘c’ is 30. ‘b’ is an integer that has been taken from a list. The list is created by user input. Check 0 th index item with 1 st index item. If 0 th index item is less than 1 st index item, check their sum can be divided exactly by 5. Then check 1 st and 2 nd index items and so on. If there is any, take the left index item and put into the formula and find the result. Do this program using function.```"
   ]
  },
  {
   "cell_type": "code",
   "execution_count": 133,
   "id": "9c55afa9-ed52-4f81-b1d8-539507b248f1",
   "metadata": {},
   "outputs": [],
   "source": [
    "import math\n",
    "from random import randint\n",
    "def findX(a,c):\n",
    "    size_ = 1000\n",
    "    l = [randint(1,10) for _ in range(size_) ]\n",
    "    idx0 = 0\n",
    "    idx1 = idx0+1\n",
    "    while idx1 < size_:\n",
    "        if l[idx0] < l[idx1] :\n",
    "            if (l[idx0] + l[idx1]) % 5 == 0:\n",
    "                b = l[idx0]\n",
    "                \n",
    "                print(b,l[idx0])\n",
    "                sol = math.sqrt((2*a*b)/c)\n",
    "                print(sol)\n",
    "                return sol\n",
    "      \n",
    "        idx0 +=1\n",
    "        idx1 +=1\n",
    "    return None\n",
    "    "
   ]
  },
  {
   "cell_type": "code",
   "execution_count": 134,
   "id": "06a1bb90-64d4-486c-88a1-a0953ce99495",
   "metadata": {},
   "outputs": [
    {
     "name": "stdout",
     "output_type": "stream",
     "text": [
      "5 5\n",
      "2.581988897471611\n"
     ]
    },
    {
     "data": {
      "text/plain": [
       "2.581988897471611"
      ]
     },
     "execution_count": 134,
     "metadata": {},
     "output_type": "execute_result"
    }
   ],
   "source": [
    "findX(2,3)"
   ]
  }
 ],
 "metadata": {
  "kernelspec": {
   "display_name": "Python 3 (ipykernel)",
   "language": "python",
   "name": "python3"
  },
  "language_info": {
   "codemirror_mode": {
    "name": "ipython",
    "version": 3
   },
   "file_extension": ".py",
   "mimetype": "text/x-python",
   "name": "python",
   "nbconvert_exporter": "python",
   "pygments_lexer": "ipython3",
   "version": "3.9.2"
  }
 },
 "nbformat": 4,
 "nbformat_minor": 5
}
